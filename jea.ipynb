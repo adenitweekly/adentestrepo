{
    "cells": [
        {
            "cell_type": "code",
            "execution_count": 1,
            "id": "312126aa",
            "metadata": {},
            "outputs": [
                {
                    "name": "stdout",
                    "output_type": "stream",
                    "text": "Password for dhoyazan2003@gmail.com: \u00b7\u00b7\u00b7\u00b7\u00b7\u00b7\u00b7\u00b7\n"
                },
                {
                    "data": {
                        "text/plain": "{'ok': True,\n 'status': 'Logged in successfully!',\n 'jwt': 'Session token in cookie',\n 'user': 'dhoyazan',\n 'role': None,\n 'email': 'dhoyazan2003@gmail.com'}"
                    },
                    "execution_count": 1,
                    "metadata": {},
                    "output_type": "execute_result"
                }
            ],
            "source": "ApiBase = 'https://api.ensims.com/'\nJeaApi = ApiBase + \"jea_web/api/\"\nUserApi = ApiBase + 'users/api/'\n\nimport requests\nimport getpass\nuser_email = \"dhoyazan2003@gmail.com\" \npassword = getpass.getpass(\"Password for \" + user_email + \": \")\n\nheaders = {'Content-Type': 'application/json'}\nbody = {\"email\": user_email, \"password\": password}\n\nr = requests.post(UserApi + 'auth', headers=headers, json=body)\ncookies = r.cookies\nr.json()"
        },
        {
            "cell_type": "code",
            "execution_count": 4,
            "id": "c62bc457",
            "metadata": {},
            "outputs": [
                {
                    "data": {
                        "text/plain": "'8e5f160bed436d1a71863ea0c2ce872f'"
                    },
                    "execution_count": 4,
                    "metadata": {},
                    "output_type": "execute_result"
                }
            ],
            "source": "url = JeaApi + 'upload'\nfiles = {'file': open('shoebox.idf', 'rb')}\nheaders = {'ContentType': ''}\nr = requests.post(url, files=files, cookies=cookies)\n \nr.json()['fileHandle']"
        },
        {
            "cell_type": "code",
            "execution_count": 5,
            "id": "134db49b",
            "metadata": {},
            "outputs": [
                {
                    "data": {
                        "text/plain": "'6a3b56dc010cd78fe8e041e5f5d1c46a'"
                    },
                    "execution_count": 5,
                    "metadata": {},
                    "output_type": "execute_result"
                }
            ],
            "source": "url = JeaApi + 'upload'\nfiles = {'file': open('cntr_Heathrow_TRY.epw', 'rb')}\nheaders = {'ContentType': ''}\nr = requests.post(url, files=files, cookies=cookies)\n \nr.json()['fileHandle']"
        },
        {
            "cell_type": "code",
            "execution_count": 7,
            "id": "23eab5ef",
            "metadata": {},
            "outputs": [
                {
                    "data": {
                        "text/plain": "'953975e6f2b78b33c98bdb29dd17adf8'"
                    },
                    "execution_count": 7,
                    "metadata": {},
                    "output_type": "execute_result"
                }
            ],
            "source": "url = JeaApi + 'upload'\nfiles = {'file': open('2030_Heathrow_a1fi_50_percentile_TRY.epw', 'rb')}\nheaders = {'ContentType': ''}\nr = requests.post(url, files=files, cookies=cookies)\nr.json()['fileHandle']\n\nurl = JeaApi + 'upload'\nfiles = {'file': open('2050_Heathrow_a1fi_50_percentile_TRY.epw', 'rb')}\nheaders = {'ContentType': ''}\nr = requests.post(url, files=files, cookies=cookies)\nr.json()['fileHandle']\n\nurl = JeaApi + 'upload'\nfiles = {'file': open('2080_Heathrow_a1fi_50_percentile_TRY.epw', 'rb')}\nheaders = {'ContentType': ''}\nr = requests.post(url, files=files, cookies=cookies)\nr.json()['fileHandle']"
        },
        {
            "cell_type": "code",
            "execution_count": 9,
            "id": "e408994f",
            "metadata": {},
            "outputs": [
                {
                    "data": {
                        "text/plain": "{'description': 'EA engine created for project iRetJEAV3', 'ok': True}"
                    },
                    "execution_count": 9,
                    "metadata": {},
                    "output_type": "execute_result"
                }
            ],
            "source": "body = {\n  \"command\" : \"Create\",\n  \"projectID\" : \"iRetJEAV3\",\n  \"problem\" : {\n    \"name\" : \"G\",\n    \"description\" : \"New project (Project validation: passed)\",\n    \"modelVersion\" : \"1.0.0\",\n    \"variables\" : [ {\n      \"name\" : \"W\",\n      \"caption\" : \"Weather File\",\n      \"valueType\" : \"List\",\n      \"valueStr\" : \"{\\\"cntr_Heathrow_TRY.epw\\\", \\\"2030_Heathrow_a1fi_50_percentile_TRY.epw\\\", \\\"2050_Heathrow_a1fi_50_percentile_TRY.epw\\\", \\\"2080_Heathrow_a1fi_50_percentile_TRY.epw\\\"}\",\n      \"maskStr\" : None\n    }, {\n      \"name\" : \"T\",\n      \"caption\" : \"Model\",\n      \"valueType\" : \"List\",\n      \"valueStr\" : \"{\\\"shoebox.idf\\\"}\",\n      \"maskStr\" : None\n    }, {\n      \"name\" : \"P0\",\n      \"caption\" : \"Timestep(@@ts@@)\",\n      \"valueType\" : \"Number\",\n      \"valueStr\" : \"{2,4,6}\",\n      \"maskStr\" : \"{4}\"\n    }, {\n      \"name\" : \"P1\",\n      \"caption\" : \"SolarDist(@@sd@@)\",\n      \"valueType\" : \"List\",\n      \"valueStr\" : \"{FullExterior, FullInteriorAndExterior}\",\n      \"maskStr\" : \"{FullExterior}\"\n    }, {\n      \"name\" : \"P2\",\n      \"caption\" : \"Orientation(@@ori@@)\",\n      \"valueType\" : \"Number\",\n      \"valueStr\" : \"[0:15:350]\",\n      \"maskStr\" : None\n    }, {\n      \"name\" : \"P3\",\n      \"caption\" : \"Insulation(@@ins@@)\",\n      \"valueType\" : \"Number\",\n      \"valueStr\" : \"{0.01}&[0.05:0.05:0.3]\",\n      \"maskStr\" : None\n    }, {\n      \"name\" : \"P4\",\n      \"caption\" : \"Insulation2(@@ins2@@)\",\n      \"valueType\" : \"Number\",\n      \"valueStr\" : \"{0.01}&[0.05:0.05:0.3]\",\n      \"maskStr\" : None\n    }, {\n      \"name\" : \"P5\",\n      \"caption\" : \"WinConstr(@@win_constr@@)\",\n      \"valueType\" : \"List\",\n      \"valueStr\" : \"{\\\"Sgl Clr 6mm\\\", \\\"Dbl Clr 3mm/6mm Air\\\", \\\" Dbl Clr 3mm/13mm Arg\\\", \\\"Dbl LoE (e2=.4) Clr 3mm/13mm Arg\\\", \\\"Trp Clr 3mm/13mm Arg\\\", \\\"Trp LoE (e5=.1) Clr 3mm/13mm Arg\\\", \\\"Trp LoE (e2=e5=.1) Clr 3mm/13mm Arg\\\"}\",\n      \"maskStr\" : None\n    }, {\n      \"name\" : \"P6\",\n      \"caption\" : \"WindowWidth(@@win_w@@)\",\n      \"valueType\" : \"Number\",\n      \"valueStr\" : \"[0.2:0.2:3.6]\",\n      \"maskStr\" : None\n    }, {\n      \"name\" : \"P7\",\n      \"caption\" : \"WindowX(@@win_x@@)\",\n      \"valueType\" : \"List\",\n      \"valueStr\" : \"{\\\"?=2-@@ins2@@/2\\\"}\",\n      \"maskStr\" : None\n    }, {\n      \"name\" : \"P8\",\n      \"caption\" : \"Overhang(@@overhang@@)\",\n      \"valueType\" : \"Number\",\n      \"valueStr\" : \"[0.1:0.1:1.2]\",\n      \"maskStr\" : None\n    }, {\n      \"name\" : \"P9\",\n      \"caption\" : \"Ventilation(@@ach@@)\",\n      \"valueType\" : \"Number\",\n      \"valueStr\" : \"[0.5:0.5:5]\",\n      \"maskStr\" : None\n    }, {\n      \"name\" : \"P10\",\n      \"caption\" : \"HeatingSP(@@heating@@)\",\n      \"valueType\" : \"Number\",\n      \"valueStr\" : \"[18:.5:23]\",\n      \"maskStr\" : None\n    }, {\n      \"name\" : \"P11\",\n      \"caption\" : \"CoolingSP(@@cooling@@)\",\n      \"valueType\" : \"Number\",\n      \"valueStr\" : \"[24:.5:29]\",\n      \"maskStr\" : None\n    } ],\n    \"evalResults\" : [ {\n      \"caption\" : \"Heating\",\n      \"unit\" : \"kWh\",\n      \"name\" : \"v1\",\n      \"enabled\" : True\n    }, {\n      \"caption\" : \"Cooling\",\n      \"unit\" : \"kWh\",\n      \"name\" : \"v2\",\n      \"enabled\" : True\n    }, {\n      \"caption\" : \"Linghting\",\n      \"unit\" : \"kWh\",\n      \"name\" : \"v3\",\n      \"enabled\" : True\n    }, {\n      \"caption\" : \"Discomfort\",\n      \"unit\" : \"hrs\",\n      \"name\" : \"v4\",\n      \"enabled\" : True\n    } ],\n    \"userMetrics\" : [ ],\n    \"objectives\" : [ {\n      \"formula\" : \"v1\",\n      \"direction\" : \"Minimize\",\n      \"caption\" : \"Total heating\",\n      \"unit\" : \"kWh\",\n      \"name\" : \"t1\",\n      \"enabled\" : True\n    }, {\n      \"formula\" : \"v2\",\n      \"direction\" : \"Minimize\",\n      \"caption\" : \"Total cooling\",\n      \"unit\" : \"kWh\",\n      \"name\" : \"t2\",\n      \"enabled\" : True\n    } ],\n    \"constraints\" : [ {\n      \"weight\" : 1.0,\n      \"ub\" : 150.0,\n      \"lb\" : 0.0,\n      \"formula\" : \"v3\",\n      \"min\" : 0.0,\n      \"max\" : 500.0,\n      \"caption\" : \"Lighting consumption\",\n      \"unit\" : \"kWh\",\n      \"name\" : \"s1\",\n      \"enabled\" : True\n    }, {\n      \"weight\" : 1.0,\n      \"ub\" : 80.0,\n      \"lb\" : 0.0,\n      \"formula\" : \"v4\",\n      \"min\" : 0.0,\n      \"max\" : 1500.0,\n      \"caption\" : \"Discomfort\",\n      \"unit\" : \"Hrs\",\n      \"name\" : \"s2\",\n      \"enabled\" : True\n    } ]\n  },\n  \"config\" : {\n    \"algorithm\" : \"Sensitivity\",\n    \"initSampleOption\" : \"MORRIS\",\n    \"sampleSize\" : 20,\n    \"initPopSize\" : 15,\n    \"evolvePopSize\" : 16,\n    \"maxPopSize\" : 2147483647,\n    \"mutationRate\" : 0.2,\n    \"crossoverRate\" : 1.0,\n    \"tournamentSize\" : 2,\n    \"objectiveBias\" : 0.0,\n    \"elitismTolerance\" : 0.0,\n    \"globalElitism\" : True,\n    \"maxGenerations\" : 200,\n    \"maxEvaluations\" : 0,\n    \"maxComputingTime\" : 0.0,\n    \"maxWallTime\" : 0.0\n  },\n  \"smdata\" : {\n    \"model\" : \"project.json\",\n    \"modelFile\" : \"3874cc7e270c882ec6ab36130957a956\",\n    \"modelOrigin\" : \"C:\\\\Users\\\\id301839\\\\Downloads\\\\jEPlus_EA_v2.1.0_beta_02\\\\EA_Example_ShoeboxModel_v8.9\\\\\",\n    \"modelID\" : \"jep\",\n    \"dataFile\" : None,\n    \"type\" : \"JEPlus\"\n  },\n  \"filter\" : None,\n  \"description\" : \"New project\",\n  \"tags\" : None,\n  \"users\" : None,\n  \"archive\" : None,\n  \"runCaption\" : \"iRetJEA\",\n  \"runNotes\" : None\n}\n\nr = requests.post(JeaApi + 'command', json=body, cookies=cookies)\nr.json()\n"
        },
        {
            "cell_type": "code",
            "execution_count": 10,
            "id": "10c17fb3",
            "metadata": {},
            "outputs": [
                {
                    "data": {
                        "text/plain": "{'status': 'Created',\n 'solutions': 0,\n 'projectName': 'iRetJEAV3',\n 'currentRun': -1,\n 'generations': 0,\n 'description': 'Project iRetJEAV3 has been created and configured.',\n 'ok': True}"
                    },
                    "execution_count": 10,
                    "metadata": {},
                    "output_type": "execute_result"
                }
            ],
            "source": "project_id = 'iRetJEAV3'\nr = requests.get(JeaApi + 'status/' + project_id, cookies=cookies)\nr.json()"
        },
        {
            "cell_type": "code",
            "execution_count": 11,
            "id": "d5aea9e9",
            "metadata": {},
            "outputs": [
                {
                    "data": {
                        "text/plain": "{'description': 'EA engine for project iRetJEAV3 is launched.', 'ok': True}"
                    },
                    "execution_count": 11,
                    "metadata": {},
                    "output_type": "execute_result"
                }
            ],
            "source": "r = requests.get(JeaApi + 'start/' + project_id, cookies=cookies)\nr.json()"
        },
        {
            "cell_type": "code",
            "execution_count": 12,
            "id": "be75e5a7",
            "metadata": {},
            "outputs": [
                {
                    "data": {
                        "text/plain": "{'projectName': 'iRetJEAV3',\n 'jobSet': {'C-2_0_1_0_0_0_3_0_12_0_1_6_10_3': {'P0': '4',\n   'P1': 'FullExterior',\n   'P2': '0',\n   'P3': '0.01',\n   'P4': '0.15',\n   'P5': 'Sgl Clr 6mm',\n   'P6': '2.6',\n   'P7': '?=2-@@ins2@@/2',\n   'P8': '0.2',\n   'P9': '3.5',\n   'P10': '23.0',\n   'P11': '25.5',\n   'T': 'shoebox.idf',\n   'W': '2050_Heathrow_a1fi_50_percentile_TRY.epw'},\n  'C-2_0_1_0_4_0_3_6_12_0_1_6_10_3': {'P0': '4',\n   'P1': 'FullExterior',\n   'P2': '60',\n   'P3': '0.01',\n   'P4': '0.15',\n   'P5': 'Trp LoE (e2=e5=.1) Clr 3mm/13mm Arg',\n   'P6': '2.6',\n   'P7': '?=2-@@ins2@@/2',\n   'P8': '0.2',\n   'P9': '3.5',\n   'P10': '23.0',\n   'P11': '25.5',\n   'T': 'shoebox.idf',\n   'W': '2050_Heathrow_a1fi_50_percentile_TRY.epw'},\n  'C-2_0_1_0_19_1_4_2_14_0_0_0_9_0': {'P0': '4',\n   'P1': 'FullExterior',\n   'P2': '285',\n   'P3': '0.05',\n   'P4': '0.20',\n   'P5': ' Dbl Clr 3mm/13mm Arg',\n   'P6': '3.0',\n   'P7': '?=2-@@ins2@@/2',\n   'P8': '0.1',\n   'P9': '0.5',\n   'P10': '22.5',\n   'P11': '24',\n   'T': 'shoebox.idf',\n   'W': '2050_Heathrow_a1fi_50_percentile_TRY.epw'},\n  'C-2_0_1_0_0_5_3_0_12_0_1_6_10_3': {'P0': '4',\n   'P1': 'FullExterior',\n   'P2': '0',\n   'P3': '0.25',\n   'P4': '0.15',\n   'P5': 'Sgl Clr 6mm',\n   'P6': '2.6',\n   'P7': '?=2-@@ins2@@/2',\n   'P8': '0.2',\n   'P9': '3.5',\n   'P10': '23.0',\n   'P11': '25.5',\n   'T': 'shoebox.idf',\n   'W': '2050_Heathrow_a1fi_50_percentile_TRY.epw'},\n  'C-2_0_1_0_0_1_4_2_14_0_0_0_9_0': {'P0': '4',\n   'P1': 'FullExterior',\n   'P2': '0',\n   'P3': '0.05',\n   'P4': '0.20',\n   'P5': ' Dbl Clr 3mm/13mm Arg',\n   'P6': '3.0',\n   'P7': '?=2-@@ins2@@/2',\n   'P8': '0.1',\n   'P9': '0.5',\n   'P10': '22.5',\n   'P11': '24',\n   'T': 'shoebox.idf',\n   'W': '2050_Heathrow_a1fi_50_percentile_TRY.epw'},\n  'C-3_0_1_0_19_4_4_2_14_0_0_0_9_0': {'P0': '4',\n   'P1': 'FullExterior',\n   'P2': '285',\n   'P3': '0.20',\n   'P4': '0.20',\n   'P5': ' Dbl Clr 3mm/13mm Arg',\n   'P6': '3.0',\n   'P7': '?=2-@@ins2@@/2',\n   'P8': '0.1',\n   'P9': '0.5',\n   'P10': '22.5',\n   'P11': '24',\n   'T': 'shoebox.idf',\n   'W': '2080_Heathrow_a1fi_50_percentile_TRY.epw'},\n  'C-2_0_1_0_4_0_3_0_12_0_1_6_10_3': {'P0': '4',\n   'P1': 'FullExterior',\n   'P2': '60',\n   'P3': '0.01',\n   'P4': '0.15',\n   'P5': 'Sgl Clr 6mm',\n   'P6': '2.6',\n   'P7': '?=2-@@ins2@@/2',\n   'P8': '0.2',\n   'P9': '3.5',\n   'P10': '23.0',\n   'P11': '25.5',\n   'T': 'shoebox.idf',\n   'W': '2050_Heathrow_a1fi_50_percentile_TRY.epw'},\n  'C-3_0_1_0_19_4_4_2_14_0_7_0_9_0': {'P0': '4',\n   'P1': 'FullExterior',\n   'P2': '285',\n   'P3': '0.20',\n   'P4': '0.20',\n   'P5': ' Dbl Clr 3mm/13mm Arg',\n   'P6': '3.0',\n   'P7': '?=2-@@ins2@@/2',\n   'P8': '0.8',\n   'P9': '0.5',\n   'P10': '22.5',\n   'P11': '24',\n   'T': 'shoebox.idf',\n   'W': '2080_Heathrow_a1fi_50_percentile_TRY.epw'},\n  'C-2_0_1_0_0_1_4_2_0_0_0_0_9_0': {'P0': '4',\n   'P1': 'FullExterior',\n   'P2': '0',\n   'P3': '0.05',\n   'P4': '0.20',\n   'P5': ' Dbl Clr 3mm/13mm Arg',\n   'P6': '0.2',\n   'P7': '?=2-@@ins2@@/2',\n   'P8': '0.1',\n   'P9': '0.5',\n   'P10': '22.5',\n   'P11': '24',\n   'T': 'shoebox.idf',\n   'W': '2050_Heathrow_a1fi_50_percentile_TRY.epw'},\n  'C-2_0_1_0_0_1_3_2_0_0_0_0_2_0': {'P0': '4',\n   'P1': 'FullExterior',\n   'P2': '0',\n   'P3': '0.05',\n   'P4': '0.15',\n   'P5': ' Dbl Clr 3mm/13mm Arg',\n   'P6': '0.2',\n   'P7': '?=2-@@ins2@@/2',\n   'P8': '0.1',\n   'P9': '0.5',\n   'P10': '19.0',\n   'P11': '24',\n   'T': 'shoebox.idf',\n   'W': '2050_Heathrow_a1fi_50_percentile_TRY.epw'},\n  'C-2_0_1_0_0_1_3_2_0_0_0_0_9_0': {'P0': '4',\n   'P1': 'FullExterior',\n   'P2': '0',\n   'P3': '0.05',\n   'P4': '0.15',\n   'P5': ' Dbl Clr 3mm/13mm Arg',\n   'P6': '0.2',\n   'P7': '?=2-@@ins2@@/2',\n   'P8': '0.1',\n   'P9': '0.5',\n   'P10': '22.5',\n   'P11': '24',\n   'T': 'shoebox.idf',\n   'W': '2050_Heathrow_a1fi_50_percentile_TRY.epw'},\n  'C-2_0_1_0_0_1_3_2_0_0_0_5_2_0': {'P0': '4',\n   'P1': 'FullExterior',\n   'P2': '0',\n   'P3': '0.05',\n   'P4': '0.15',\n   'P5': ' Dbl Clr 3mm/13mm Arg',\n   'P6': '0.2',\n   'P7': '?=2-@@ins2@@/2',\n   'P8': '0.1',\n   'P9': '3.0',\n   'P10': '19.0',\n   'P11': '24',\n   'T': 'shoebox.idf',\n   'W': '2050_Heathrow_a1fi_50_percentile_TRY.epw'},\n  'C-3_0_1_0_19_1_4_2_14_0_0_0_9_0': {'P0': '4',\n   'P1': 'FullExterior',\n   'P2': '285',\n   'P3': '0.05',\n   'P4': '0.20',\n   'P5': ' Dbl Clr 3mm/13mm Arg',\n   'P6': '3.0',\n   'P7': '?=2-@@ins2@@/2',\n   'P8': '0.1',\n   'P9': '0.5',\n   'P10': '22.5',\n   'P11': '24',\n   'T': 'shoebox.idf',\n   'W': '2080_Heathrow_a1fi_50_percentile_TRY.epw'},\n  'C-2_0_1_0_0_1_3_0_0_0_0_5_2_6': {'P0': '4',\n   'P1': 'FullExterior',\n   'P2': '0',\n   'P3': '0.05',\n   'P4': '0.15',\n   'P5': 'Sgl Clr 6mm',\n   'P6': '0.2',\n   'P7': '?=2-@@ins2@@/2',\n   'P8': '0.1',\n   'P9': '3.0',\n   'P10': '19.0',\n   'P11': '27.0',\n   'T': 'shoebox.idf',\n   'W': '2050_Heathrow_a1fi_50_percentile_TRY.epw'},\n  'C-2_0_1_0_0_1_3_2_0_0_0_5_2_6': {'P0': '4',\n   'P1': 'FullExterior',\n   'P2': '0',\n   'P3': '0.05',\n   'P4': '0.15',\n   'P5': ' Dbl Clr 3mm/13mm Arg',\n   'P6': '0.2',\n   'P7': '?=2-@@ins2@@/2',\n   'P8': '0.1',\n   'P9': '3.0',\n   'P10': '19.0',\n   'P11': '27.0',\n   'T': 'shoebox.idf',\n   'W': '2050_Heathrow_a1fi_50_percentile_TRY.epw'}},\n 'name': 'Gen-0',\n 'eventType': 'Request'}"
                    },
                    "execution_count": 12,
                    "metadata": {},
                    "output_type": "execute_result"
                }
            ],
            "source": "r = requests.get(JeaApi + 'jobs/' + project_id, cookies=cookies)\nr.json()"
        },
        {
            "cell_type": "code",
            "execution_count": null,
            "id": "0a3846b3",
            "metadata": {},
            "outputs": [],
            "source": ""
        }
    ],
    "metadata": {
        "kernelspec": {
            "display_name": "Python 3.9",
            "language": "python",
            "name": "python3"
        },
        "language_info": {
            "codemirror_mode": {
                "name": "ipython",
                "version": 3
            },
            "file_extension": ".py",
            "mimetype": "text/x-python",
            "name": "python",
            "nbconvert_exporter": "python",
            "pygments_lexer": "ipython3",
            "version": "3.9.7"
        }
    },
    "nbformat": 4,
    "nbformat_minor": 5
}